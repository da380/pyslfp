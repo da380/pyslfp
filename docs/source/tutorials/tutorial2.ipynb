{
 "cells": [
  {
   "cell_type": "markdown",
   "id": "79a01d16",
   "metadata": {},
   "source": [
    "# Tutorial 2: A Deeper Dive into the Sea Level Equation\n",
    "\n",
    "In the first tutorial, we calculated and plotted a basic sea-level fingerprint. Now, we'll explore the problem in more detail.\n",
    "\n",
    "This tutorial will cover four key topics:\n",
    "1.  **Defining Custom Loads:** Instead of using a helper for a whole hemisphere, we will create a more localized load, simulating the melt of a specific ice cap.\n",
    "2.  **Visualizing All Physical Outputs:** We will investigate all the physical fields returned by the solver: sea-level change, solid Earth displacement, and the different components of the gravity field.\n",
    "3.  **Exploring Solver Options:** We will examine the effect of **rotational feedbacks** (polar wander) on the sea-level solution.\n",
    "4.  **Advanced Initialization:** We will briefly discuss some of the optional parameters for the `FingerPrint` class, including how to use custom non-dimensionalization schemes."
   ]
  },
  {
   "cell_type": "markdown",
   "id": "9e72c35f",
   "metadata": {},
   "source": [
    "## Setup and Initialization\n",
    "\n",
    "As before, we start by importing the necessary libraries and initializing our `FingerPrint` model with a present-day background state. This workflow will be the standard starting point for most forward-modeling problems."
   ]
  },
  {
   "cell_type": "code",
   "execution_count": null,
   "id": "82473f3f",
   "metadata": {},
   "outputs": [],
   "source": [
    "# To run in colab, uncomment the line below to install pygeoinf. \n",
    "#%pip install pyslfp --quiet\n",
    "\n",
    "import matplotlib.pyplot as plt\n",
    "import numpy as np\n",
    "import pyslfp as sl\n",
    "\n",
    "# 1. Initialise the fingerprint model\n",
    "fp = sl.FingerPrint(lmax=256)\n",
    "\n",
    "# 2. Set the background state to the present day\n",
    "fp.set_state_from_ice_ng(version=sl.IceModel.ICE7G, date=0.0)"
   ]
  },
  {
   "cell_type": "markdown",
   "id": "97da21dd",
   "metadata": {},
   "source": [
    "## Step 1: Creating a Custom Surface Load\n",
    "\n",
    "While helpers like `northern_hemisphere_load` are useful, we often want to model more specific scenarios. Let's simulate the melt of a simplified, circular ice sheet over southern Greenland.\n",
    "\n",
    "It's important to note that all spatial fields in `pyslfp` (including loads, ice thickness, and the final results) are standard `pyshtools.SHGrid` objects. This means that while the library provides convenient helper functions like `disk_load`, you have the full power of the `pyshtools` library at your disposal. You can create `SHGrid` objects directly from NumPy arrays, spherical harmonic coefficients, or by loading external files, giving you complete flexibility to define any custom load you need.\n",
    "\n",
    "For this example, we'll first create a `SHGrid` object representing the *change in ice thickness* using the `disk_load` helper. We'll simulate a 100-meter thinning over a 5-degree radius disk centered on Greenland. We then use `direct_load_from_ice_thickness_change` to convert this into a physically correct surface mass load."
   ]
  },
  {
   "cell_type": "code",
   "execution_count": null,
   "id": "8ba4c351",
   "metadata": {},
   "outputs": [],
   "source": [
    "# Define the parameters for a disk load over Southern Greenland\n",
    "lat_greenland, lon_greenland = 65.0, -45.0\n",
    "radius_deg = 5.0\n",
    "thickness_change_meters = -100.0\n",
    "\n",
    "# Create a grid representing the change in ice thickness\n",
    "ice_thickness_change = fp.disk_load(\n",
    "    delta=radius_deg,\n",
    "    latitude=lat_greenland,\n",
    "    longitude=lon_greenland,\n",
    "    amplitude=thickness_change_meters,\n",
    ")\n",
    "\n",
    "# Convert the ice thickness change into a surface mass load (in kg/m^2)\n",
    "direct_load = fp.direct_load_from_ice_thickness_change(ice_thickness_change)\n",
    "\n",
    "# Optional: Plot the load to see what it looks like\n",
    "fig, ax, im = sl.plot(direct_load, coasts=True)\n",
    "ax.set_title(\"Surface Mass Load from Greenland Melt\")\n",
    "fig.colorbar(im, ax=ax, label=\"Mass Change (kg/m$^2$)\")\n",
    "plt.show()"
   ]
  },
  {
   "cell_type": "markdown",
   "id": "d138ffb8",
   "metadata": {},
   "source": [
    "## Step 2: Solving for All Output Fields\n",
    "\n",
    "Now we run the solver, but this time we will capture all four of the output fields in separate variables. We will also print the change in angular velocity, which is returned as a simple NumPy array `[ω_x, ω_y]` representing the change in the x and y components of the Earth's rotation vector. The z-component of the angular velocity change is smaller by around two-orders of magnitude and is neglected in the modelling. "
   ]
  },
  {
   "cell_type": "code",
   "execution_count": null,
   "id": "ebcd38c1",
   "metadata": {},
   "outputs": [],
   "source": [
    "sea_level_change, displacement, gravity_potential_change, angular_velocity_change = fp(\n",
    "    direct_load=direct_load\n",
    ")\n",
    "\n",
    "print(f\"Change in angular velocity vector [ω_x, ω_y]: {angular_velocity_change}\")"
   ]
  },
  {
   "cell_type": "markdown",
   "id": "6a880d26",
   "metadata": {},
   "source": [
    "## Step 3: Visualizing the Physical Fields\n",
    "\n",
    "With all the results in hand, we can now plot them to understand the full physical response to the ice melt.\n",
    "\n",
    "### Sea Level Change\n",
    "\n",
    "First, we plot the sea-level fingerprint for our new Greenland load. As a reminder, this field represents the change in the sea surface equipotential (the geoid). We will again apply an ocean mask to focus the visualization on the world's oceans, but the underlying field is well-defined everywhere."
   ]
  },
  {
   "cell_type": "code",
   "execution_count": null,
   "id": "4ed549ff",
   "metadata": {},
   "outputs": [],
   "source": [
    "fig, ax, im = sl.plot(\n",
    "    sea_level_change * fp.ocean_projection(),\n",
    "    coasts=True,    \n",
    ")\n",
    "ax.set_title(\"Sea Level Fingerprint\")\n",
    "fig.colorbar(im, ax=ax, label=\"Sea Level Change (m)\")\n",
    "plt.show()"
   ]
  },
  {
   "cell_type": "markdown",
   "id": "1365e7b4",
   "metadata": {},
   "source": [
    "### Vertical Displacement\n",
    "\n",
    "Next, we visualize the `displacement` field. This represents the **elastic deformation of the solid Earth**.\n",
    "\n",
    "You should see a positive signal (uplift or \"rebound\") centered on the location where the ice was removed, as the crust is no longer weighed down. This uplift is surrounded by a weaker negative signal (subsidence), often called the \"peripheral bulge.\" This deformation occurs on both land and the sea floor."
   ]
  },
  {
   "cell_type": "code",
   "execution_count": null,
   "id": "38368ea3",
   "metadata": {},
   "outputs": [],
   "source": [
    "fig, ax, im = sl.plot(\n",
    "    displacement,\n",
    "    coasts=True,    \n",
    ")\n",
    "ax.set_title(\"Vertical Surface Displacement\")\n",
    "fig.colorbar(im, ax=ax, label=\"Uplift (m)\")\n",
    "plt.show()"
   ]
  },
  {
   "cell_type": "markdown",
   "id": "de6768f1",
   "metadata": {},
   "source": [
    "### Gravity and Gravitational Potential Change\n",
    "\n",
    "It is important to distinguish between two related quantities:\n",
    "* **Gravity Potential:** The potential experienced by an observer on the rotating Earth's surface. It includes the true **gravitational potential** (from mass) and the **centrifugal potential** (from rotation).\n",
    "* **Gravitational Potential:** The potential due to mass alone. This is what a non-rotating observer or an orbiting satellite like GRACE would measure.\n",
    "\n",
    "The `fp()` solver returns the total **`gravity_potential_change`**. For many applications, we want to isolate the pure **`gravitational_potential_change`**. The library provides a convenience method to perform this conversion, which subtracts the centrifugal potential component."
   ]
  },
  {
   "cell_type": "code",
   "execution_count": null,
   "id": "09fa4069",
   "metadata": {},
   "outputs": [],
   "source": [
    "# Convert the total gravity potential change to pure gravitational potential change\n",
    "gravitational_potential_change = fp.gravity_potential_change_to_gravitational_potential_change(\n",
    "    gravity_potential_change, angular_velocity_change\n",
    ")\n",
    "\n",
    "# Plot the result\n",
    "fig, ax, im = sl.plot(\n",
    "    gravitational_potential_change,\n",
    "    coasts=True,    \n",
    ")\n",
    "ax.set_title(\"Gravitational Potential Change (Mass Component)\")\n",
    "fig.colorbar(im, ax=ax, label=\"Potential Change (m$^2$/s$^2$)\")\n",
    "plt.show()"
   ]
  },
  {
   "cell_type": "markdown",
   "id": "552f5bfe",
   "metadata": {},
   "source": [
    "The sea level change is a sum of contributions from:\n",
    "- verical displacement\n",
    "- changes to the gravity potential\n",
    "- a uniform change required to conserve mass between the ice sheets and the oceans. \n",
    "- \n",
    "Mathematically, we can write the sea level change as:\n",
    "$$\n",
    "\\Delta SL = -\\frac{1}{g}(\\nabla \\Phi \\cdot \\mathbf{u} + \\phi + \\psi) + \\frac{\\Delta\\Phi_{g}}{g},\n",
    "$$\n",
    "where $g$ is the acceleration due to gravity at the surface, $\\Phi$ the the background gravitational potential, $\\mathbf{u}$\n",
    "is the displacement vector, $\\phi$ is the perturbation to the gravitational potential, $\\psi$ the perturbation to the \n",
    "centrifugal potential, and $\\Delta \\Phi_{g}$ is a constant change in the value of the centrifugal potential on the equipotential\n",
    "that defined the mean set surface. \n",
    "\n",
    "Below we can subtract the changes associated with vertical displacement and gravity potential from the sea level change to revel the uniform component. The value for this uniform change can also be calculated directly and simply using the `mean_sea_level_change` method for the  `FingerPrint` class."
   ]
  },
  {
   "cell_type": "code",
   "execution_count": null,
   "id": "49786a76",
   "metadata": {},
   "outputs": [],
   "source": [
    "uniform_sea_level_change = sea_level_change + displacement + gravity_potential_change / fp.gravitational_acceleration\n",
    "\n",
    "# Plot the result\n",
    "fig, ax, im = sl.plot(\n",
    "    uniform_sea_level_change,\n",
    "    coasts=True,    \n",
    "    symmetric=True\n",
    ")\n",
    "ax.set_title(\"Uniform component of sea level change\")\n",
    "fig.colorbar(im, ax=ax, label=\"Sea level change (m)\")\n",
    "plt.show()\n",
    "\n",
    "mean_sea_level_change = fp.mean_sea_level_change(direct_load)\n",
    "print(f'Mean sea level change = {mean_sea_level_change} m')"
   ]
  },
  {
   "cell_type": "markdown",
   "id": "e23d4d6b",
   "metadata": {},
   "source": [
    "## Step 4: Investigating Rotational Feedbacks\n",
    "\n",
    "The `pyslfp` solver includes the effect of **rotational feedbacks** by default. When a large mass is redistributed on the Earth's surface, it changes the planet's tensor of inertia, causing the rotation axis to shift slightly relative to the crust. This \"polar wander\" induces its own distinct, long-wavelength pattern of sea-level change.\n",
    "\n",
    "We can investigate the importance of this effect by running the solver again with the `rotational_feedbacks` flag set to `False`. We can then subtract this new result from our original result to isolate the pure rotational signal."
   ]
  },
  {
   "cell_type": "code",
   "execution_count": null,
   "id": "39cd3a58",
   "metadata": {},
   "outputs": [],
   "source": [
    "# Solve the sea level equation again, but with rotational feedbacks turned OFF\n",
    "sea_level_no_rotation, _, _, _ = fp(\n",
    "    direct_load=direct_load,\n",
    "    rotational_feedbacks=False\n",
    ")\n",
    "\n",
    "# Calculate the difference to isolate the rotational effect\n",
    "rotation_effect = sea_level_change - sea_level_no_rotation\n",
    "\n",
    "# Plot the isolated rotational signal\n",
    "fig, ax, im = sl.plot(\n",
    "    rotation_effect * fp.ocean_projection(),\n",
    "    coasts=True,    \n",
    "    symmetric=True\n",
    ")\n",
    "ax.set_title(\"Sea Level Change due to Rotational Feedback Alone\")\n",
    "fig.colorbar(im, ax=ax, label=\"Sea Level Change (m)\")\n",
    "plt.show()"
   ]
  },
  {
   "cell_type": "markdown",
   "id": "e9afe184",
   "metadata": {},
   "source": [
    "## Advanced Topic: FingerPrint Initialization Options\n",
    "\n",
    "The `FingerPrint` class can be customized at initialization. The main arguments are:\n",
    "* `lmax`: Sets the spherical harmonic resolution.\n",
    "* `grid`: Sets the `pyshtools` grid type (e.g., `'DH'`, `'GLQ'`, or `'DH2'` for double longitudinal sampling).\n",
    "* `love_number_file`: Path to a custom Love number file for a different Earth model.\n",
    "* `earth_model_parameters`: A custom `EarthModelParameters` object to control physical constants and the non-dimensionalization scheme.\n",
    "\n",
    "### Non-Dimensionalisation Schemes\n",
    "Internally, the library solves the equations using non-dimensional quantities to improve numerical stability. By default, `FingerPrint` uses a **trivial non-dimensionalization scheme** (all scales are 1.0), which is equivalent to working directly in SI units.\n",
    "\n",
    "**Important Note:** The outputs of the solver are returned in these non-dimensional units. If you use a custom scheme, you must re-scale your results manually for interpretation.\n",
    "\n",
    "For most geophysical applications, it is better to use a sensible scheme. There are two ways to do this:\n",
    "1.  **Using the factory method:** The `EarthModelParameters.from_standard_non_dimensionalisation()` method provides a pre-configured scheme based on the Earth's radius, water density, and the hour. This is the easiest approach.\n",
    "2.  **Using the constructor directly:** To have full control, you can instantiate `EarthModelParameters` directly, providing your own values for `length_scale`, `density_scale`, `time_scale`, and any of the physical constants."
   ]
  },
  {
   "cell_type": "code",
   "execution_count": null,
   "id": "e98f93c0",
   "metadata": {},
   "outputs": [],
   "source": [
    "# --- Option 1: Use the convenient factory method ---\n",
    "print(\"--- Standard Scheme from Factory Method ---\")\n",
    "standard_params = sl.EarthModelParameters.from_standard_non_dimensionalisation()\n",
    "\n",
    "# We can inspect the base scales...\n",
    "print(f\"  Base Length Scale: {standard_params.length_scale:.2e} m\")\n",
    "print(f\"  Base Density Scale: {standard_params.density_scale:.2e} kg/m^3\")\n",
    "print(f\"  Base Time Scale: {standard_params.time_scale:.2e} s\")\n",
    "\n",
    "# ...and also the derived scales.\n",
    "print(f\"  Derived Mass Scale: {standard_params.mass_scale:.2e} kg\")\n",
    "print(f\"  Derived Grav. Potential Scale: {standard_params.gravitational_potential_scale:.2e} m^2/s^2\")\n",
    "\n",
    "# ...and see their effect on physical constants.\n",
    "print(f\"  Non-dimensional Earth Mass: {standard_params.mass:.4f}\")\n",
    "print(f\"  Non-dimensional Rotation Freq.: {standard_params.rotation_frequency:.4f}\")\n",
    "\n",
    "\n",
    "# --- Option 2: Use the constructor for a fully custom scheme ---\n",
    "print(\"\\n--- Fully Custom Scheme from Constructor ---\")\n",
    "custom_params = sl.EarthModelParameters(\n",
    "    length_scale=6.0e6, # Use a round number for length\n",
    "    density_scale=1028.0, # Use a more precise sea water density\n",
    "    time_scale=86400.0 # Use one day as the time scale\n",
    ")\n",
    "# We can inspect the base scales...\n",
    "print(f\"  Base Length Scale: {custom_params.length_scale:.2e} m\")\n",
    "print(f\"  Base Density Scale: {custom_params.density_scale:.2e} kg/m^3\")\n",
    "print(f\"  Base Time Scale: {custom_params.time_scale:.2e} s\")\n",
    "\n",
    "# ...and also the derived scales.\n",
    "print(f\"  Derived Mass Scale: {custom_params.mass_scale:.2e} kg\")\n",
    "print(f\"  Derived Grav. Potential Scale: {custom_params.gravitational_potential_scale:.2e} m^2/s^2\")\n",
    "\n",
    "# ...and see their effect on physical constants.\n",
    "print(f\"  Non-dimensional Earth Mass: {custom_params.mass:.4f}\")\n",
    "print(f\"  Non-dimensional Rotation Freq.: {custom_params.rotation_frequency:.4f}\")\n",
    "\n",
    "\n",
    "# This custom object could then be passed to the FingerPrint constructor:\n",
    "# fp_custom = sl.FingerPrint(lmax=256, earth_model_parameters=custom_params)\n",
    "print(\"\\nA FingerPrint model could now be initialized with either of these schemes.\")"
   ]
  },
  {
   "cell_type": "markdown",
   "id": "fcde4833",
   "metadata": {},
   "source": [
    "## Conclusion\n",
    "\n",
    "In this tutorial, we went beyond the basics to explore the rich outputs and options of the `pyslfp` library. We learned how to:\n",
    "\n",
    "* Create a specific, localized surface load to represent a targeted melt scenario.\n",
    "* Visualize and interpret the full suite of physical responses, including the distinction between gravity and gravitational potential.\n",
    "* Isolate and understand the physical effect of rotational feedbacks on the final sea-level pattern.\n",
    "* Customize the model's physical parameters and non-dimensionalization scheme for advanced use cases."
   ]
  }
 ],
 "metadata": {
  "kernelspec": {
   "display_name": "pyslfp-si9MxX7m-py3.11",
   "language": "python",
   "name": "python3"
  },
  "language_info": {
   "codemirror_mode": {
    "name": "ipython",
    "version": 3
   },
   "file_extension": ".py",
   "mimetype": "text/x-python",
   "name": "python",
   "nbconvert_exporter": "python",
   "pygments_lexer": "ipython3",
   "version": "3.11.6"
  }
 },
 "nbformat": 4,
 "nbformat_minor": 5
}
