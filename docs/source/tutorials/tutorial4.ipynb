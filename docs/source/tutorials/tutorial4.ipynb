{
 "cells": [
  {
   "cell_type": "markdown",
   "id": "c90cffaf",
   "metadata": {},
   "source": [
    "# Tutorial 4: Adjoints and Sensitivity Kernels with `pygeoinf`\n",
    "\n",
    "In the previous tutorials, we treated the `pyslfp` library as a tool for performing specific physical calculations. Now, we will explore its deep integration with the `pygeoinf` library, which provides the powerful mathematical abstractions that are useful in posing and solving associated inverse problems. \n",
    "\n",
    "We will show how the solution of the sea-level equation can be represented as a single **`LinearOperator`** object. This allows us to move beyond simple forward calculations and into the domain of operator algebra, adjoints, and sensitivity analysis.\n",
    "\n",
    "This tutorial will cover:\n",
    "1.  **The sea level eqiation as a `LinearOperator`:** Wrapping the solution of the elastic fingerprint problem into a `pygeoinf` operator.\n",
    "2.  **Reciprocity as the Adjoint Identity:** Revisiting the reciprocity principle from Tutorial 3 and demonstrating that it is equivalent to the mathematical \"dot-product test\" for an operator and its adjoint.\n",
    "3.  **Calculating Sensitivity Kernels:** Using the **adjoint method** to efficiently calculate the sensitivity of a sea-level measurement at a single point (e.g., Boston) to ice melt anywhere on the globe."
   ]
  },
  {
   "cell_type": "markdown",
   "id": "8630443c",
   "metadata": {},
   "source": [
    "## Setup and Initialization\n",
    "\n",
    "We start with our standard setup, creating a `FingerPrint` instance with a non-dimensionalization scheme and setting its background state."
   ]
  },
  {
   "cell_type": "code",
   "execution_count": null,
   "id": "42c57546",
   "metadata": {},
   "outputs": [],
   "source": [
    "import matplotlib.pyplot as plt\n",
    "import numpy as np\n",
    "import pyslfp as sl\n",
    "import pyshtools as sh\n",
    "import pygeoinf as inf\n",
    "import cartopy.crs as ccrs\n",
    "\n",
    "# 1. Initialise the fingerprint model with a standard non-dimensionalisation\n",
    "standard_nondim = sl.EarthModelParameters.from_standard_non_dimensionalisation()\n",
    "fp = sl.FingerPrint(lmax=256, earth_model_parameters=standard_nondim)\n",
    "\n",
    "# 2. Set the background state to the present day\n",
    "fp.set_state_from_ice_ng()"
   ]
  },
  {
   "cell_type": "markdown",
   "id": "c0fdd755",
   "metadata": {},
   "source": [
    "## 1. The sea level problem as a Linear Operator\n",
    "\n",
    "The `pyslfp` library allows us to represent the solution of the elastic sea level equation as a single `pygeoinf.LinearOperator`. The `as_sobolev_linear_operator` method is the primary way to do this. This operator fully encapsulates the physics that maps an input (a surface load) to the outputs (the physical responses).\n",
    "\n",
    "* **Domain:** The operator's domain (input space) is a **Sobolev space**. This is a function space for the surface mass load where we enforce a degree of smoothness. This is often a more physical choice than allowing infinitely rough loads. We must specify a smoothness `order` and a characteristic `scale`.\n",
    "* **Codomain:** The operator's codomain (output space) is a **`HilbertSpaceDirectSum`**. This is a composite space where each component corresponds to one of the physical outputs: [sea-level change, displacement, gravitational potential, angular velocity]. The three spatial fields also belong to Sobolev spaces, but ones whose order is raised by one over the load space, this reflecting the smoothing associated with solution of the sea level equation. \n",
    "\n",
    "The resulting operator, which we'll call `A`, represents the entire forward problem.\n",
    "\n"
   ]
  },
  {
   "cell_type": "code",
   "execution_count": null,
   "id": "a3869e2e",
   "metadata": {},
   "outputs": [],
   "source": [
    "# Define Sobolev space parameters for the input load\n",
    "order = 2.0\n",
    "# The scale is a physical length; we'll set it to 5% of the Earth's radius\n",
    "scale = 0.05 * fp.mean_sea_floor_radius\n",
    "\n",
    "# Create the linear operator. A(load) -> [slc, disp, gpc, avc]\n",
    "# Note that the relative tolerance for the solver can be optionally set. \n",
    "# For the tests below, a high accuracy is needed. \n",
    "rtol = 1.e-9\n",
    "A = fp.as_sobolev_linear_operator(order, scale, rtol=rtol)"
   ]
  },
  {
   "cell_type": "markdown",
   "id": "b0846e41",
   "metadata": {},
   "source": [
    "\n",
    "## 2. Reciprocity as the Adjoint Identity\n",
    "\n",
    "In Tutorial 3, we demonstrated that the sea-level equation obeys a reciprocity principle. This physical symmetry has a deep connection to the mathematical concept of the **adjoint operator**.\n",
    "\n",
    "For any linear operator $A$ mapping between two Hilbert spaces, its adjoint $A^*$ is uniquely defined by the following identity:\n",
    "$$\n",
    "\\langle A u, v \\rangle = \\langle u, A^* v \\rangle\n",
    "$$\n",
    "This must hold for any vector $u$ in the domain and $v$ in the codomain. It states that the effect of the operator $A$ on $u$, as \"measured\" by $v$, is the same as the effect of the adjoint operator $A^*$ on $v$, as \"measured\" by $u$.\n",
    "\n",
    "The generalized reciprocity theorem is the physical law that tells us precisely what the adjoint operator $A^*$ is. The `pygeoinf` framework uses this physical knowledge to construct the correct adjoint mapping. The dot-product test is a fundamental check to ensure the implementation is correct.\n"
   ]
  },
  {
   "cell_type": "code",
   "execution_count": null,
   "id": "4cc92897",
   "metadata": {},
   "outputs": [],
   "source": [
    "# The dot-product test verifies the adjoint implementation.\n",
    "\n",
    "# A helper to create a random load\n",
    "def random_load(fp: sl.FingerPrint) -> sh.SHGrid:\n",
    "    f = np.random.uniform()\n",
    "    return f * fp.northern_hemisphere_load() + (1-f) * fp.southern_hemisphere_load()\n",
    "\n",
    "# Helper to create a random angular momentum perturbation\n",
    "def random_angular_momentum(fp: sl.FingerPrint) -> np.ndarray:\n",
    "    b = fp.mean_sea_floor_radius\n",
    "    omega = fp.rotation_frequency\n",
    "    load_lm = random_load(fp).expand(lmax_calc=2, normalization=\"ortho\")    \n",
    "    return  omega * b**4 * load_lm.coeffs[:, 2, 1]\n",
    "\n",
    "\n",
    "# 1. Create a random vector `u` in the domain (a random load)\n",
    "u = random_load(fp)\n",
    "\n",
    "# 2. Create a vector `v` in the codomain (a random set of response fields)\n",
    "v = [\n",
    "    random_load(fp),             # \"Adjoint\" sea level\n",
    "    random_load(fp),             # \"Adjoint\" displacement\n",
    "    random_load(fp),             # \"Adjoint\" gravity\n",
    "    random_angular_momentum(fp)  # \"Adjoint\" angular velocity\n",
    "]\n",
    "\n",
    "# 3. Calculate the left-hand side: <A(u), v>\n",
    "lhs = A.codomain.inner_product(A(u), v)\n",
    "\n",
    "# 4. Calculate the right-hand side: <u, A*(v)>\n",
    "rhs = A.domain.inner_product(u, A.adjoint(v))\n",
    "\n",
    "\n",
    "print(f\"Adjoint Identity Test Results:\")\n",
    "print(f\"  Left-Hand Side  <A(u), v>:  {lhs:.7e}\")\n",
    "print(f\"  Right-Hand Side <u, A*(v)>: {rhs:.7e}\")\n",
    "print(f\"  Are they close? {np.isclose(lhs, rhs, rtol=rtol)}\")"
   ]
  },
  {
   "cell_type": "markdown",
   "id": "0f54b32f",
   "metadata": {},
   "source": [
    "\n",
    "## 3. Constructing an Observation Operator\n",
    "\n",
    "The full operator `A` is useful, but sometimes we are only interested in a single observation. For instance, we might only have data for sea-level change.\n",
    "\n",
    "Using `pygeoinf`, we can construct a new operator that maps a load directly to this single observation. We do this by composing `A` with a **projection operator**. The codomain of `A` is a direct sum space, and we can get a projection onto its first component (sea-level change) using `A.codomain.subspace_projection(0)`.\n",
    "\n",
    "Let's create a new operator `B = P @ A`. This operator represents the specific physical process: **load → sea-level change**. Because the domain and codomain of `B` are the same type of function space (a scalar field on the sphere), the simple reciprocity principle from Tutorial 3 means that this specific operator **is** self-adjoint relative to the standard $L^{2}$ inner product. This property does not hold in a general Hilbert Space, but the correct form of the adjoint is determined in such cases by `pygeoinf`.\n",
    "\n",
    "In the next cell, we'll create this operator and then immediately use it to re-calculate the fingerprint from Tutorial 1, showing that it works as expected."
   ]
  },
  {
   "cell_type": "code",
   "execution_count": null,
   "id": "dd013713",
   "metadata": {},
   "outputs": [],
   "source": [
    "# Get the projection operator onto the first subspace (sea-level change)\n",
    "P = A.codomain.subspace_projection(0)\n",
    "\n",
    "# Compose with the full operator to get our specific observation operator\n",
    "B = P @ A\n",
    "\n",
    "# --- Use the new operator B to reproduce the result from Tutorial 1 ---\n",
    "\n",
    "print(\"\\n--- Reproducing Fingerprint from Tutorial 1 using the Operator ---\")\n",
    "\n",
    "# 1. Define the same load as in Tutorial 1\n",
    "load_tut1 = fp.northern_hemisphere_load(fraction=0.1)\n",
    "\n",
    "# 2. Apply the operator B to the load\n",
    "# This is the forward calculation: sea_level_change = B(load)\n",
    "sea_level_change_op = B(load_tut1)\n",
    "\n",
    "# 3. Plot the result to confirm it's identical to Tutorial 1\n",
    "fig, ax, im = sl.plot(\n",
    "    sea_level_change_op * fp.ocean_projection(),\n",
    "    coasts=True,\n",
    "    cmap=\"seismic\",\n",
    "    symmetric=True\n",
    ")\n",
    "ax.set_title(\"Fingerprint from Tutorial 1 (Calculated via LinearOperator)\")\n",
    "fig.colorbar(im, ax=ax, label=\"Sea Level Change (m)\")\n",
    "plt.show()"
   ]
  },
  {
   "cell_type": "markdown",
   "id": "281a9815",
   "metadata": {},
   "source": [
    "## 4. Calculating a Sensitivity Kernel with the Adjoint Method\n",
    "\n",
    "Now for the most powerful application. Suppose we want to ask: *\"How does a sea-level measurement at a single location (say, Boston) depend on ice melt from every possible location on Earth?\"*\n",
    "\n",
    "The answer to this question is called the **sensitivity kernel**. It's a map that shows how much a small change in the model (ice load) at each point contributes to our specific measurement.\n",
    "\n",
    "Calculating this kernel directly would require running the forward model thousands of times. The **adjoint method** allows us to compute it with a single operation. The principle is:\n",
    "\n",
    "> The sensitivity kernel is the result of applying the adjoint of the relevant forward operator ($B^*$) to a representation of the measurement itself.\n",
    "\n",
    "For a point measurement, this representation is the **Dirac delta functional**. The `pygeoinf` Sobolev space provides the Riesz representation of this functional via the `dirac_representation` method."
   ]
  },
  {
   "cell_type": "code",
   "execution_count": null,
   "id": "a449179c",
   "metadata": {},
   "outputs": [],
   "source": [
    "# Define the location of our observation (Boston, MA)\n",
    "lat_boston, lon_boston = 42.36, -71.06\n",
    "\n",
    "# Get the vector representing a point measurement in the observation space\n",
    "# Note: The Dirac representation must be in the codomain of B (the sea-level space)\n",
    "v = B.codomain.dirac_representation((lat_boston, lon_boston))\n",
    "\n",
    "# Apply the adjoint of our observation operator to this vector\n",
    "# The result, w, is the sensitivity kernel.\n",
    "w = B.adjoint(v)"
   ]
  },
  {
   "cell_type": "markdown",
   "id": "3843947f",
   "metadata": {},
   "source": [
    "It is important to note that underlying the above calculation is just a single solution of the sea level equation. "
   ]
  },
  {
   "cell_type": "markdown",
   "id": "25d489e5",
   "metadata": {},
   "source": [
    "## 5. Visualizing the Sensitivity Kernel\n",
    "\n",
    "Finally, let's plot the kernel `w`. This map shows the sensitivity of sea level in Boston to a positive mass load (ice gain) anywhere on the globe.\n",
    "\n",
    "### A Note on Interpretation\n",
    "\n",
    "It is crucial to understand how to interpret this kernel correctly. Because our operator's domain is a **Sobolev space**, the resulting kernel `w` is also an element of that space. This means it represents the sensitivity functional with respect to the **Sobolev inner product**, not the standard $L^2$ inner product (a simple integral).\n",
    "\n",
    "The practical implication is that **a simple pointwise interpretation of the kernel's amplitude is not possible.** The influence of a given load pattern, $\\zeta$, on the sea level in Boston is given by the Sobolev inner product $ \\langle w, \\zeta \\rangle_{H^{s}(\\partial M)}$, which involves derivatives and penalizes roughness.\n",
    "\n",
    "This is a subtle but important technical point that was knowingly simplified in Al-Attar et al. (2024). In that work, only $L^{2}$ inner products were used, but it was then necessary for the adjoint load for a point measurement to be smoothed to allow for a more intuitive visualization and to avoid numerical ringing. The kernel we have computed here is the more mathematically direct representation.\n",
    "\n",
    "With that caveat in mind, the *pattern* of the kernel is still informative. Let's visualize it, and also see its values over the existing ice sheets by multiplying by `fp.ice_projection()`."
   ]
  },
  {
   "cell_type": "code",
   "execution_count": null,
   "id": "e13eaed6",
   "metadata": {},
   "outputs": [],
   "source": [
    "# Plot the full, global sensitivity kernel\n",
    "fig, ax, im = sl.plot(w, coasts=True, cmap=\"seismic\", symmetric=True)\n",
    "ax.set_title(\"Sensitivity of Boston Sea Level to a Global Mass Load\")\n",
    "# Use the imported ccrs module for the transform\n",
    "ax.plot(lon_boston, lat_boston, 'm*', markersize=10, transform=ccrs.PlateCarree())\n",
    "fig.colorbar(im, ax=ax, label=\"Sea Level Response in Boston (m) per unit load\")\n",
    "plt.show()\n",
    "\n",
    "# Plot the kernel masked over just the ice sheets\n",
    "fig, ax, im = sl.plot(w * fp.ice_projection(), coasts=True, cmap=\"seismic\", symmetric=True)\n",
    "ax.set_title(\"Sensitivity of Boston Sea Level to Ice Sheet Mass Changes\")\n",
    "# Use the imported ccrs module for the transform\n",
    "ax.plot(lon_boston, lat_boston, 'm*', markersize=10, transform=ccrs.PlateCarree())\n",
    "fig.colorbar(im, ax=ax, label=\"Sea Level Response in Boston (m) per unit load\")\n",
    "plt.show()"
   ]
  },
  {
   "cell_type": "markdown",
   "id": "263c60e4",
   "metadata": {},
   "source": [
    "## Conclusion\n",
    "\n",
    "This tutorial served as an introduction to the powerful operator formalism provided by `pygeoinf` and leveraged by `pyslfp`.\n",
    "\n",
    "We have learned how to:\n",
    "* Represent the solution of the elastic sea level equation as a single `LinearOperator`.\n",
    "* Understand reciprocity as the formal adjoint identity, and numerically verify it.\n",
    "* Compose operators to represent a specific observation (like sea level).\n",
    "* Use the adjoint of an observation operator to efficiently compute a sensitivity kernel for a point measurement.\n",
    "\n",
    "This adjoint method is the cornerstone of modern data assimilation and large-scale inverse problems. It allows us to understand the sensitivity of thousands of data points to our model parameters at a fraction of the computational cost of direct methods."
   ]
  }
 ],
 "metadata": {
  "kernelspec": {
   "display_name": "pyslfp-si9MxX7m-py3.11",
   "language": "python",
   "name": "python3"
  },
  "language_info": {
   "codemirror_mode": {
    "name": "ipython",
    "version": 3
   },
   "file_extension": ".py",
   "mimetype": "text/x-python",
   "name": "python",
   "nbconvert_exporter": "python",
   "pygments_lexer": "ipython3",
   "version": "3.11.6"
  }
 },
 "nbformat": 4,
 "nbformat_minor": 5
}
