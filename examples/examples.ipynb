{
 "cells": [
  {
   "cell_type": "code",
   "execution_count": 5,
   "metadata": {},
   "outputs": [],
   "source": [
    "import sys\n",
    "import os\n",
    "\n",
    "parent_dir = os.path.abspath(os.path.join(os.getcwd(), '..'))\n",
    "sys.path.insert(0, parent_dir)\n",
    "\n",
    "from pyslfp import FingerPrint, plot_SHGrid, ResponseFields\n",
    "import numpy as np"
   ]
  },
  {
   "cell_type": "code",
   "execution_count": 6,
   "metadata": {},
   "outputs": [
    {
     "ename": "KeyboardInterrupt",
     "evalue": "",
     "output_type": "error",
     "traceback": [
      "\u001b[0;31m---------------------------------------------------------------------------\u001b[0m",
      "\u001b[0;31mKeyboardInterrupt\u001b[0m                         Traceback (most recent call last)",
      "Cell \u001b[0;32mIn[6], line 16\u001b[0m\n\u001b[1;32m     13\u001b[0m generalised_load2 \u001b[38;5;241m=\u001b[39m ResponseFields(zeta2, zeta2, np\u001b[38;5;241m.\u001b[39marray([\u001b[38;5;241m1\u001b[39m,\u001b[38;5;241m1\u001b[39m]), zeta2)\n\u001b[1;32m     15\u001b[0m \u001b[38;5;66;03m# Compute the response. \u001b[39;00m\n\u001b[0;32m---> 16\u001b[0m response1 \u001b[38;5;241m=\u001b[39m \u001b[43mfinger_print\u001b[49m\u001b[38;5;241;43m.\u001b[39;49m\u001b[43mgeneralised_solver\u001b[49m\u001b[43m(\u001b[49m\u001b[43mgeneralised_load1\u001b[49m\u001b[43m)\u001b[49m\n\u001b[1;32m     17\u001b[0m response2 \u001b[38;5;241m=\u001b[39m finger_print\u001b[38;5;241m.\u001b[39mgeneralised_solver(generalised_load2)\n\u001b[1;32m     19\u001b[0m \u001b[38;5;28mprint\u001b[39m(finger_print\u001b[38;5;241m.\u001b[39mintegrate(response1\u001b[38;5;241m.\u001b[39msl \u001b[38;5;241m*\u001b[39m zeta2))\n",
      "File \u001b[0;32m/space/dah94/pyslfp/pyslfp/finger_print.py:549\u001b[0m, in \u001b[0;36mFingerPrint.generalised_solver\u001b[0;34m(self, generalised_load, rotational_feedbacks, rtol, verbose)\u001b[0m\n\u001b[1;32m    547\u001b[0m count \u001b[38;5;241m=\u001b[39m \u001b[38;5;241m0\u001b[39m\n\u001b[1;32m    548\u001b[0m \u001b[38;5;28;01mwhile\u001b[39;00m err \u001b[38;5;241m>\u001b[39m rtol:\n\u001b[0;32m--> 549\u001b[0m     response \u001b[38;5;241m=\u001b[39m \u001b[38;5;28;43mself\u001b[39;49m\u001b[38;5;241;43m.\u001b[39;49m\u001b[43m_iterate_generalised_solver\u001b[49m\u001b[43m(\u001b[49m\u001b[43mgeneralised_load\u001b[49m\u001b[43m,\u001b[49m\u001b[43m \u001b[49m\u001b[43msl_uniform\u001b[49m\u001b[43m,\u001b[49m\u001b[43m \u001b[49m\u001b[43mrotational_feedbacks\u001b[49m\u001b[38;5;241;43m=\u001b[39;49m\u001b[43mrotational_feedbacks\u001b[49m\u001b[43m)\u001b[49m\n\u001b[1;32m    550\u001b[0m     sigma_new \u001b[38;5;241m=\u001b[39m zeta \u001b[38;5;241m+\u001b[39m \u001b[38;5;28mself\u001b[39m\u001b[38;5;241m.\u001b[39mwater_density \u001b[38;5;241m*\u001b[39m \u001b[38;5;28mself\u001b[39m\u001b[38;5;241m.\u001b[39mocean_function \u001b[38;5;241m*\u001b[39m response\u001b[38;5;241m.\u001b[39msl\n\u001b[1;32m    551\u001b[0m     err \u001b[38;5;241m=\u001b[39m np\u001b[38;5;241m.\u001b[39mmax(np\u001b[38;5;241m.\u001b[39mabs((sigma_new \u001b[38;5;241m-\u001b[39m sigma)\u001b[38;5;241m.\u001b[39mdata)) \u001b[38;5;241m/\u001b[39m np\u001b[38;5;241m.\u001b[39mmax(np\u001b[38;5;241m.\u001b[39mabs(sigma\u001b[38;5;241m.\u001b[39mdata))\n",
      "File \u001b[0;32m/space/dah94/pyslfp/pyslfp/finger_print.py:402\u001b[0m, in \u001b[0;36mFingerPrint._iterate_generalised_solver\u001b[0;34m(self, generalised_load, sl_uniform, rotational_feedbacks)\u001b[0m\n\u001b[1;32m    398\u001b[0m \u001b[38;5;28;01mfor\u001b[39;00m l \u001b[38;5;129;01min\u001b[39;00m \u001b[38;5;28mrange\u001b[39m(\u001b[38;5;28mself\u001b[39m\u001b[38;5;241m.\u001b[39mlmax\u001b[38;5;241m+\u001b[39m\u001b[38;5;241m1\u001b[39m):\n\u001b[1;32m    399\u001b[0m     u_lm\u001b[38;5;241m.\u001b[39mcoeffs[:,l,:] \u001b[38;5;241m=\u001b[39m \u001b[38;5;28mself\u001b[39m\u001b[38;5;241m.\u001b[39m_h[l] \u001b[38;5;241m*\u001b[39m sigma_lm\u001b[38;5;241m.\u001b[39mcoeffs[:,l,:]    \\\n\u001b[1;32m    400\u001b[0m                         \u001b[38;5;241m+\u001b[39m \u001b[38;5;28mself\u001b[39m\u001b[38;5;241m.\u001b[39m_h_u[l] \u001b[38;5;241m*\u001b[39m zeta_u_lm\u001b[38;5;241m.\u001b[39mcoeffs[:,l,:]    \\\n\u001b[1;32m    401\u001b[0m                         \u001b[38;5;241m+\u001b[39m \u001b[38;5;28mself\u001b[39m\u001b[38;5;241m.\u001b[39m_h_phi[l] \u001b[38;5;241m*\u001b[39m zeta_phi_lm\u001b[38;5;241m.\u001b[39mcoeffs[:,l,:]\n\u001b[0;32m--> 402\u001b[0m     phi_lm\u001b[38;5;241m.\u001b[39mcoeffs[:,l,:] \u001b[38;5;241m=\u001b[39m \u001b[38;5;28mself\u001b[39m\u001b[38;5;241m.\u001b[39m_k[l] \u001b[38;5;241m*\u001b[39m sigma_lm\u001b[38;5;241m.\u001b[39mcoeffs[:,l,:]    \\\n\u001b[1;32m    403\u001b[0m                         \u001b[38;5;241m+\u001b[39m \u001b[38;5;28mself\u001b[39m\u001b[38;5;241m.\u001b[39m_k_u[l] \u001b[38;5;241m*\u001b[39m zeta_u_lm\u001b[38;5;241m.\u001b[39mcoeffs[:,l,:]    \\\n\u001b[1;32m    404\u001b[0m                         \u001b[38;5;241m+\u001b[39m \u001b[38;5;28mself\u001b[39m\u001b[38;5;241m.\u001b[39m_k_phi[l] \u001b[38;5;241m*\u001b[39m zeta_phi_lm\u001b[38;5;241m.\u001b[39mcoeffs[:,l,:]\n\u001b[1;32m    406\u001b[0m \u001b[38;5;28;01mif\u001b[39;00m rotational_feedbacks:\n\u001b[1;32m    407\u001b[0m     r \u001b[38;5;241m=\u001b[39m \u001b[38;5;28mself\u001b[39m\u001b[38;5;241m.\u001b[39m_rotation_factor\n",
      "\u001b[0;31mKeyboardInterrupt\u001b[0m: "
     ]
    }
   ],
   "source": [
    "# Set up the fingerprint solver. \n",
    "finger_print = FingerPrint()\n",
    "\n",
    "# Set the background sea level and ice thickness. \n",
    "finger_print.set_background_state_from_ice_ng()\n",
    "\n",
    "# Set the load. \n",
    "zeta1 = finger_print.northern_hemisphere_load()\n",
    "zeta2 = finger_print.southern_hemisphere_load()\n",
    "\n",
    "# Invent a generalised load\n",
    "generalised_load1 = ResponseFields(zeta1, zeta1, np.array([1,1]), zeta1)\n",
    "generalised_load2 = ResponseFields(zeta2, zeta2, np.array([1,1]), zeta2)\n",
    "\n",
    "# Compute the response. \n",
    "response1 = finger_print.generalised_solver(generalised_load1)\n",
    "response2 = finger_print.generalised_solver(generalised_load2)\n",
    "\n",
    "print(finger_print.integrate(response1.sl * zeta2))\n",
    "print(finger_print.integrate(response2.sl * zeta1))\n",
    "\n",
    "# Plot the sea level change over the oceans. \n",
    "plot_SHGrid(response1.sl * finger_print.ocean_mask() , contour=True, levels=60, colorbar=True)"
   ]
  }
 ],
 "metadata": {
  "kernelspec": {
   "display_name": "sl",
   "language": "python",
   "name": "python3"
  },
  "language_info": {
   "codemirror_mode": {
    "name": "ipython",
    "version": 3
   },
   "file_extension": ".py",
   "mimetype": "text/x-python",
   "name": "python",
   "nbconvert_exporter": "python",
   "pygments_lexer": "ipython3",
   "version": "3.11.6"
  }
 },
 "nbformat": 4,
 "nbformat_minor": 2
}
