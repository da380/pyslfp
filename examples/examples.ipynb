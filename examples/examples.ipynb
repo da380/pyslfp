{
 "cells": [
  {
   "cell_type": "code",
   "execution_count": 78,
   "metadata": {},
   "outputs": [
    {
     "name": "stdout",
     "output_type": "stream",
     "text": [
      "The autoreload extension is already loaded. To reload it, use:\n",
      "  %reload_ext autoreload\n"
     ]
    }
   ],
   "source": [
    "import sys\n",
    "import os\n",
    "\n",
    "parent_dir = os.path.abspath(os.path.join(os.getcwd(), '..'))\n",
    "sys.path.insert(0, parent_dir)\n",
    "\n",
    "from pyslfp import FingerPrint, plot_SHGrid, ResponseFields\n",
    "import numpy as np\n",
    "\n",
    "%load_ext autoreload\n",
    "%autoreload 2"
   ]
  },
  {
   "cell_type": "code",
   "execution_count": 102,
   "metadata": {},
   "outputs": [],
   "source": [
    "# Set some things up.\n",
    "def inner_product(fp, f1, f2):\n",
    "    g = fp.gravitational_acceleration\n",
    "    b = fp.mean_sea_floor_radius\n",
    "    return fp.integrate(f1.sl * f2.sl)  \\\n",
    "        - (1 /g) * fp.integrate((f1.u * f2.u + f1.phi * f2.phi))  \\\n",
    "        - (1 /g) * np.inner(f1.omega, f2.omega)\n",
    "\n",
    "def inner_product2(fp, f1, f2):\n",
    "    g = fp.gravitational_acceleration\n",
    "    return fp.integrate(f1.sl * f2.sl + f1.u * f2.u + f1.phi * f2.phi) + np.inner(f1.omega, f2.omega)\n",
    "\n",
    "# Set up the fingerprint solver. \n",
    "finger_print = FingerPrint(128)\n",
    "\n",
    "# Set the background sea level and ice thickness. \n",
    "finger_print.set_background_state_from_ice_ng()\n",
    "\n",
    "# Set the load. \n",
    "zeta1 = finger_print.northern_hemisphere_load()\n",
    "zeta2 = finger_print.southern_hemisphere_load()\n",
    "zero = zeta1 - zeta1"
   ]
  },
  {
   "cell_type": "code",
   "execution_count": 103,
   "metadata": {},
   "outputs": [
    {
     "name": "stdout",
     "output_type": "stream",
     "text": [
      "Iteration = 1, relative error = 4.1622e-02\n",
      "Iteration = 2, relative error = 1.9158e-03\n",
      "Iteration = 3, relative error = 2.2750e-04\n",
      "Iteration = 4, relative error = 3.6457e-05\n",
      "Iteration = 5, relative error = 6.6913e-06\n",
      "Iteration = 6, relative error = 1.2998e-06\n",
      "Iteration = 7, relative error = 2.5963e-07\n",
      "-7.736755404912344e+18\n",
      "3.6266609514180854e+18\n"
     ]
    }
   ],
   "source": [
    "# Invent a generalised load\n",
    "generalised_load1 = ResponseFields(zeta1, zeta1, np.array([1e25,1e25]), zeta1)\n",
    "generalised_load2 = ResponseFields(zeta2, zeta2, np.array([5e25,3e25]), zeta2)\n",
    "\n",
    "# Compute the response. \n",
    "response1 = finger_print.generalised_solver(generalised_load1, verbose=True)\n",
    "response2 = finger_print.generalised_solver(generalised_load2)\n",
    "\n",
    "# Needs to be a full inner product (i.e. not just zeta*sl)\n",
    "print(inner_product(finger_print, generalised_load1, response2))\n",
    "print(inner_product(finger_print, generalised_load2, response1))\n",
    "\n",
    "# Plot the sea level change over the oceans. \n",
    "#plot_SHGrid(response1.sl * finger_print.ocean_mask() , contour=True, levels=60, colorbar=True)"
   ]
  },
  {
   "cell_type": "code",
   "execution_count": 62,
   "metadata": {},
   "outputs": [
    {
     "name": "stdout",
     "output_type": "stream",
     "text": [
      "2.6831278712261214e+20\n",
      "2.6831278712261214e+20\n"
     ]
    }
   ],
   "source": [
    "## Check to see if generalised solver is consistent with the normal solver.\n",
    "\n",
    "generalised_load1 = ResponseFields(zero, zero, np.array([0,0]), zeta1)\n",
    "response1 = finger_print.generalised_solver(generalised_load1)\n",
    "response2 = finger_print.solver(zeta1)\n",
    "\n",
    "print(finger_print.integrate(response1.sl * zeta1))\n",
    "print(finger_print.integrate(response2.sl * zeta1))"
   ]
  },
  {
   "cell_type": "code",
   "execution_count": 64,
   "metadata": {},
   "outputs": [
    {
     "name": "stdout",
     "output_type": "stream",
     "text": [
      "-1.5516739250868074e+19\n",
      "-1.551673924583832e+19\n"
     ]
    }
   ],
   "source": [
    "## Try u only\n",
    "\n",
    "generalised_load1 = ResponseFields(zeta1, zero, np.array([0,0]), zero)\n",
    "generalised_load2 = ResponseFields(zeta2, zero, np.array([0,0]), zero)\n",
    "response1 = finger_print.generalised_solver(generalised_load1)\n",
    "response2 = finger_print.generalised_solver(generalised_load2)\n",
    "\n",
    "print(inner_product(finger_print, generalised_load1, response2))\n",
    "print(inner_product(finger_print, generalised_load2, response1))"
   ]
  },
  {
   "cell_type": "code",
   "execution_count": 65,
   "metadata": {},
   "outputs": [
    {
     "name": "stdout",
     "output_type": "stream",
     "text": [
      "5.950552193828723e+19\n",
      "5.9505522057528435e+19\n"
     ]
    }
   ],
   "source": [
    "## Try phi only\n",
    "\n",
    "generalised_load1 = ResponseFields(zero, zeta1, np.array([0,0]), zero)\n",
    "generalised_load2 = ResponseFields(zero, zeta2, np.array([0,0]), zero)\n",
    "response1 = finger_print.generalised_solver(generalised_load1)\n",
    "response2 = finger_print.generalised_solver(generalised_load2)\n",
    "\n",
    "print(inner_product(finger_print, generalised_load1, response2))\n",
    "print(inner_product(finger_print, generalised_load2, response1))"
   ]
  },
  {
   "cell_type": "code",
   "execution_count": 66,
   "metadata": {},
   "outputs": [
    {
     "name": "stdout",
     "output_type": "stream",
     "text": [
      "-1.3615261520789651e+19\n",
      "-1.361503064448356e+19\n"
     ]
    }
   ],
   "source": [
    "## Try zeta only\n",
    "\n",
    "generalised_load1 = ResponseFields(zero, zero, np.array([0,0]), zeta1)\n",
    "generalised_load2 = ResponseFields(zero, zero, np.array([0,0]), zeta2)\n",
    "response1 = finger_print.generalised_solver(generalised_load1)\n",
    "response2 = finger_print.generalised_solver(generalised_load2)\n",
    "\n",
    "print(inner_product(finger_print, generalised_load1, response2))\n",
    "print(inner_product(finger_print, generalised_load2, response1))"
   ]
  },
  {
   "cell_type": "code",
   "execution_count": 67,
   "metadata": {},
   "outputs": [
    {
     "name": "stdout",
     "output_type": "stream",
     "text": [
      "822412556825230.6\n",
      "822412556825230.6\n"
     ]
    }
   ],
   "source": [
    "## Try k only\n",
    "\n",
    "generalised_load1 = ResponseFields(zero, zero, np.array([1e25,2e25]), zero)\n",
    "generalised_load2 = ResponseFields(zero, zero, np.array([5e25,3e25]), zero)\n",
    "response1 = finger_print.generalised_solver(generalised_load1)\n",
    "response2 = finger_print.generalised_solver(generalised_load2)\n",
    "\n",
    "print(inner_product(finger_print, generalised_load1, response2))\n",
    "print(inner_product(finger_print, generalised_load2, response1))"
   ]
  }
 ],
 "metadata": {
  "kernelspec": {
   "display_name": "sl",
   "language": "python",
   "name": "python3"
  },
  "language_info": {
   "codemirror_mode": {
    "name": "ipython",
    "version": 3
   },
   "file_extension": ".py",
   "mimetype": "text/x-python",
   "name": "python",
   "nbconvert_exporter": "python",
   "pygments_lexer": "ipython3",
   "version": "3.11.6"
  }
 },
 "nbformat": 4,
 "nbformat_minor": 2
}
