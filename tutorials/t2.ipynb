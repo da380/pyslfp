{
 "cells": [
  {
   "cell_type": "markdown",
   "id": "350b9010",
   "metadata": {},
   "source": [
    "# Tutorial 2\n",
    "\n",
    "In this tutorial we consider again the calculation of sea level fingerprints, but now look into the various options along with the manner in which direct loads can be specified. \n",
    "\n",
    "### Setting up the FingerPrint class\n",
    "\n",
    "When setting up an instance of the ```FingerPrint``` class a number of options can be provided. These parameters are as follows:\n",
    "\n",
    "- ```lmax```: The truncation degree for spherical harmonics used within the calculations. The default value is 256.\n",
    "- ```length_scale```: The length-scale used for non-dimensionalisation. The default length scale is $1\\,$ metre.\n",
    "- ```mass_scale```: The mass-scale used for non-dimensionalisation. The default length scale is $1\\,$ kilogram.\n",
    "- ```time_scale```: The time-scale used for non-dimensionalisation. The default length scale is $1\\,$ second.\n",
    "- ```grid```: The form of the spatial grid chosen from the options for the ```pyshtools``` library. The default is ```\"DH\"```\n",
    "- ```love_number_file```: The path to a file containing the generalised Love numbers for use in the calculations. The default is a pre-calculated file for PREM of Dziewonski & Anderson (1981) with values up to 4096. This should be sufficient for most applications. "
   ]
  },
  {
   "cell_type": "markdown",
   "id": "3080c565",
   "metadata": {},
   "source": []
  }
 ],
 "metadata": {
  "kernelspec": {
   "display_name": "pyslfp-si9MxX7m-py3.10",
   "language": "python",
   "name": "python3"
  },
  "language_info": {
   "name": "python",
   "version": "3.10.13"
  }
 },
 "nbformat": 4,
 "nbformat_minor": 5
}
