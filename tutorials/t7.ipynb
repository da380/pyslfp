{
 "cells": [
  {
   "cell_type": "markdown",
   "id": "7b0bf23c",
   "metadata": {},
   "source": [
    "# Tutorial 7 - Inversion of GRACE data\n",
    "\n",
    "Following on from tutorial 6, we demonstrate a similar application of the pyslfp library, this time for the problem of estimating the surface load from GRACE data."
   ]
  },
  {
   "cell_type": "code",
   "execution_count": 3,
   "id": "45ad7ac5",
   "metadata": {},
   "outputs": [],
   "source": [
    "# Import necessary libraries. \n",
    "import matplotlib.pyplot as plt\n",
    "import numpy as np\n",
    "from cartopy import crs as ccrs\n",
    "import pygeoinf as inf\n",
    "from pygeoinf.symmetric_space.sphere import Sobolev\n",
    "import pyslfp as sl\n",
    "from pyslfp.operators import SeaLevelOperator, GraceObservationOperator, TideGaugeObservationOperator\n",
    "\n",
    "# Set up the FingerPrint instance\n",
    "fingerprint = sl.FingerPrint(\n",
    "    lmax=32,\n",
    "    earth_model_parameters=sl.EarthModelParameters.from_standard_non_dimensionalisation(),\n",
    ")\n",
    "fingerprint.set_state_from_ice_ng()"
   ]
  },
  {
   "cell_type": "markdown",
   "id": "5023da17",
   "metadata": {},
   "source": [
    "In the ```pyslfp``` library, there are a number of standard operators available, implemented as instances of the LinearOperator class in ```pygeoinf```. Here we will use ```SeaLevelOperator```, which is an implementation of the solution to the generalised sea level problem, and ```GraceObservationOperator``` which maps from the four response fields outputted by ```SeaLevelOperator``` to a vector of gravational potential coefficients.\n",
    "\n",
    "As before, we also require a data error measure."
   ]
  },
  {
   "cell_type": "code",
   "execution_count": 4,
   "id": "928e5546",
   "metadata": {},
   "outputs": [
    {
     "ename": "TypeError",
     "evalue": "LinearOperator.__init__() got an unexpected keyword argument 'formal_adjoint_mapping'",
     "output_type": "error",
     "traceback": [
      "\u001b[0;31m---------------------------------------------------------------------------\u001b[0m",
      "\u001b[0;31mTypeError\u001b[0m                                 Traceback (most recent call last)",
      "Cell \u001b[0;32mIn[4], line 9\u001b[0m\n\u001b[1;32m      6\u001b[0m rtol \u001b[38;5;241m=\u001b[39m \u001b[38;5;241m1e-6\u001b[39m\n\u001b[1;32m      8\u001b[0m \u001b[38;5;66;03m# Create the sea level operator, which computes the response to a given load.\u001b[39;00m\n\u001b[0;32m----> 9\u001b[0m sea_level_operator \u001b[38;5;241m=\u001b[39m \u001b[43mSeaLevelOperator\u001b[49m\u001b[43m(\u001b[49m\n\u001b[1;32m     10\u001b[0m \u001b[43m    \u001b[49m\u001b[43morder\u001b[49m\u001b[43m,\u001b[49m\n\u001b[1;32m     11\u001b[0m \u001b[43m    \u001b[49m\u001b[43mscale\u001b[49m\u001b[43m,\u001b[49m\n\u001b[1;32m     12\u001b[0m \u001b[43m    \u001b[49m\u001b[43mfingerprint\u001b[49m\u001b[38;5;241;43m=\u001b[39;49m\u001b[43mfingerprint\u001b[49m\u001b[43m,\u001b[49m\n\u001b[1;32m     13\u001b[0m \u001b[43m    \u001b[49m\u001b[43mrotational_feedbacks\u001b[49m\u001b[38;5;241;43m=\u001b[39;49m\u001b[43mrotational_feedbacks\u001b[49m\u001b[43m,\u001b[49m\n\u001b[1;32m     14\u001b[0m \u001b[43m    \u001b[49m\u001b[43mrtol\u001b[49m\u001b[38;5;241;43m=\u001b[39;49m\u001b[43mrtol\u001b[49m\u001b[43m,\u001b[49m\n\u001b[1;32m     15\u001b[0m \u001b[43m)\u001b[49m\n\u001b[1;32m     17\u001b[0m \u001b[38;5;66;03m# Create the observation operator, which maps the sea level response to the data space.\u001b[39;00m\n\u001b[1;32m     18\u001b[0m observation_operator \u001b[38;5;241m=\u001b[39m GraceObservationOperator(\n\u001b[1;32m     19\u001b[0m     sea_level_operator, \n\u001b[1;32m     20\u001b[0m     observation_degree\n\u001b[1;32m     21\u001b[0m )\n",
      "File \u001b[0;32m~/dev/pyslfp/pyslfp/operators.py:70\u001b[0m, in \u001b[0;36mSeaLevelOperator.__init__\u001b[0;34m(self, order, scale, fingerprint, rotational_feedbacks, rtol)\u001b[0m\n\u001b[1;32m     56\u001b[0m response_space \u001b[38;5;241m=\u001b[39m Sobolev(\n\u001b[1;32m     57\u001b[0m     \u001b[38;5;28mself\u001b[39m\u001b[38;5;241m.\u001b[39m_fingerprint\u001b[38;5;241m.\u001b[39mlmax,\n\u001b[1;32m     58\u001b[0m     order \u001b[38;5;241m+\u001b[39m \u001b[38;5;241m1\u001b[39m,\n\u001b[1;32m     59\u001b[0m     scale,\n\u001b[1;32m     60\u001b[0m     radius\u001b[38;5;241m=\u001b[39m\u001b[38;5;28mself\u001b[39m\u001b[38;5;241m.\u001b[39m_fingerprint\u001b[38;5;241m.\u001b[39mmean_sea_floor_radius,\n\u001b[1;32m     61\u001b[0m )\n\u001b[1;32m     63\u001b[0m codomain \u001b[38;5;241m=\u001b[39m inf\u001b[38;5;241m.\u001b[39mHilbertSpaceDirectSum(\n\u001b[1;32m     64\u001b[0m     [response_space,\n\u001b[1;32m     65\u001b[0m      response_space, \n\u001b[1;32m     66\u001b[0m      response_space, \n\u001b[1;32m     67\u001b[0m      inf\u001b[38;5;241m.\u001b[39mEuclideanSpace(\u001b[38;5;241m2\u001b[39m)]\n\u001b[1;32m     68\u001b[0m )\n\u001b[0;32m---> 70\u001b[0m \u001b[38;5;28;43msuper\u001b[39;49m\u001b[43m(\u001b[49m\u001b[43m)\u001b[49m\u001b[38;5;241;43m.\u001b[39;49m\u001b[38;5;21;43m__init__\u001b[39;49m\u001b[43m(\u001b[49m\u001b[43mdomain\u001b[49m\u001b[43m,\u001b[49m\u001b[43m \u001b[49m\u001b[43mcodomain\u001b[49m\u001b[43m,\u001b[49m\u001b[43m \u001b[49m\u001b[38;5;28;43mself\u001b[39;49m\u001b[38;5;241;43m.\u001b[39;49m\u001b[43m_mapping\u001b[49m\u001b[43m,\u001b[49m\u001b[43m \u001b[49m\u001b[43mformal_adjoint_mapping\u001b[49m\u001b[38;5;241;43m=\u001b[39;49m\u001b[38;5;28;43mself\u001b[39;49m\u001b[38;5;241;43m.\u001b[39;49m\u001b[43m_formal_adjoint\u001b[49m\u001b[43m)\u001b[49m\n",
      "\u001b[0;31mTypeError\u001b[0m: LinearOperator.__init__() got an unexpected keyword argument 'formal_adjoint_mapping'"
     ]
    }
   ],
   "source": [
    "# Set the parameters for the model space and the data space, as well as parameters for the sea level operator.\n",
    "order = 2\n",
    "scale = 0.1\n",
    "observation_degree = 10\n",
    "rotational_feedbacks = True\n",
    "rtol = 1e-6\n",
    "\n",
    "# Create the sea level operator, which computes the response to a given load.\n",
    "sea_level_operator = SeaLevelOperator(\n",
    "    order,\n",
    "    scale,\n",
    "    fingerprint=fingerprint,\n",
    "    rotational_feedbacks=rotational_feedbacks,\n",
    "    rtol=rtol,\n",
    ")\n",
    "\n",
    "# Create the observation operator, which maps the sea level response to the data space.\n",
    "observation_operator = GraceObservationOperator(\n",
    "    sea_level_operator, \n",
    "    observation_degree\n",
    ")\n",
    "\n",
    "# Set the data error measure for the forward ptoblem.\n",
    "data_space = observation_operator.codomain\n",
    "data_error_measure = inf.GaussianMeasure.from_standard_deviation(data_space, 0.01)\n",
    "\n",
    "# Set up the forward problem.\n",
    "forward_operator = observation_operator.forward_operator\n",
    "forward_problem = inf.LinearForwardProblem(\n",
    "    forward_operator,\n",
    "    data_error_measure\n",
    ")\n",
    "\n",
    "# Set a prior distribution.\n",
    "model_space = sea_level_operator.domain\n",
    "model_prior_measure = model_space.sobolev_gaussian_measure(2, 0.05, 1)"
   ]
  },
  {
   "cell_type": "markdown",
   "id": "db9b1203",
   "metadata": {},
   "source": [
    "We can now proceed with the same sort of calculations as in tutorial 6."
   ]
  },
  {
   "cell_type": "code",
   "execution_count": null,
   "id": "600dad35",
   "metadata": {},
   "outputs": [],
   "source": [
    "# Set up the inversion\n",
    "inversion = inf.LinearBayesianInversion(forward_problem, model_prior_measure)\n",
    "\n",
    "# Generate synthetic data.\n",
    "model, data = forward_problem.synthetic_model_and_data(model_prior_measure)\n",
    "sea_level_change = sea_level_operator(model)[0]\n",
    "\n",
    "# Plot the direct load input.\n",
    "fig, ax, im = sl.plot(model, symmetric=True)\n",
    "model_clim = im.get_clim()\n",
    "fig.colorbar(im, ax=ax, orientation=\"horizontal\", label=\"direct load\")\n",
    "\n",
    "# Plot the resulting sea level\n",
    "fig, ax, im = sl.plot(sea_level_change * fingerprint.ocean_projection())\n",
    "sea_clim = im.get_clim()\n",
    "fig.colorbar(im, ax=ax, orientation=\"horizontal\", label=\"sea level change\")\n",
    "\n",
    "# Invert the data.\n",
    "pi = inversion.model_posterior_measure(data, inf.CGMatrixSolver())\n",
    "inverted_model = pi.expectation\n",
    "inverted_sea_level_change = sea_level_operator(inverted_model)[0]\n",
    "\n",
    "# Plot the inverted direct load input.\n",
    "fig, ax, im = sl.plot(inverted_model * fingerprint.ice_projection())\n",
    "im.set_clim(model_clim)\n",
    "fig.colorbar(im, ax=ax, orientation=\"horizontal\", label=\"inverted direct load\")\n",
    "\n",
    "# Plot the resulting sea level\n",
    "fig, ax, im = sl.plot(inverted_sea_level_change * fingerprint.ocean_projection())\n",
    "im.set_clim(sea_clim)\n",
    "fig.colorbar(im, ax=ax, orientation=\"horizontal\", label=\"inverted sea level change\")\n",
    "\n",
    "print(f\"global mean sea level change = {fingerprint.ocean_average(sea_level_change)}\")\n",
    "print(\n",
    "    f\"estimated global mean sea level change = {fingerprint.ocean_average(inverted_sea_level_change)}\"\n",
    ")\n"
   ]
  }
 ],
 "metadata": {
  "kernelspec": {
   "display_name": "pyslfp-si9MxX7m-py3.10",
   "language": "python",
   "name": "python3"
  },
  "language_info": {
   "codemirror_mode": {
    "name": "ipython",
    "version": 3
   },
   "file_extension": ".py",
   "mimetype": "text/x-python",
   "name": "python",
   "nbconvert_exporter": "python",
   "pygments_lexer": "ipython3",
   "version": "3.10.13"
  }
 },
 "nbformat": 4,
 "nbformat_minor": 5
}
